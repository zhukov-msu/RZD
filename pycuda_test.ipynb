{
 "cells": [
  {
   "cell_type": "code",
   "execution_count": 1,
   "metadata": {
    "collapsed": true
   },
   "outputs": [],
   "source": [
    "import numpy as np"
   ]
  },
  {
   "cell_type": "code",
   "execution_count": 2,
   "metadata": {
    "collapsed": false
   },
   "outputs": [],
   "source": [
    "from pycuda import gpuarray"
   ]
  },
  {
   "cell_type": "code",
   "execution_count": 2,
   "metadata": {
    "collapsed": true
   },
   "outputs": [],
   "source": [
    "from time import time"
   ]
  },
  {
   "cell_type": "code",
   "execution_count": 4,
   "metadata": {
    "collapsed": true
   },
   "outputs": [],
   "source": [
    "import pycuda.driver as cuda\n",
    "import pycuda.tools\n",
    "import pycuda.autoinit"
   ]
  },
  {
   "cell_type": "code",
   "execution_count": null,
   "metadata": {
    "collapsed": true
   },
   "outputs": [],
   "source": []
  },
  {
   "cell_type": "code",
   "execution_count": 5,
   "metadata": {
    "collapsed": false,
    "scrolled": false
   },
   "outputs": [
    {
     "ename": "NameError",
     "evalue": "name 'linalg' is not defined",
     "output_type": "error",
     "traceback": [
      "\u001b[1;31m---------------------------------------------------------------------------\u001b[0m",
      "\u001b[1;31mNameError\u001b[0m                                 Traceback (most recent call last)",
      "\u001b[1;32m<ipython-input-5-c7ffd96e64b5>\u001b[0m in \u001b[0;36m<module>\u001b[1;34m()\u001b[0m\n\u001b[0;32m     11\u001b[0m \u001b[1;33m\u001b[0m\u001b[0m\n\u001b[0;32m     12\u001b[0m \u001b[0mstart\u001b[0m \u001b[1;33m=\u001b[0m \u001b[0mtime\u001b[0m\u001b[1;33m(\u001b[0m\u001b[1;33m)\u001b[0m\u001b[1;33m\u001b[0m\u001b[0m\n\u001b[1;32m---> 13\u001b[1;33m \u001b[0mresgpu\u001b[0m \u001b[1;33m=\u001b[0m \u001b[0mlinalg\u001b[0m\u001b[1;33m.\u001b[0m\u001b[0mdot\u001b[0m\u001b[1;33m(\u001b[0m\u001b[0ma_gpu\u001b[0m\u001b[1;33m,\u001b[0m \u001b[0mb_gpu\u001b[0m\u001b[1;33m)\u001b[0m\u001b[1;33m\u001b[0m\u001b[0m\n\u001b[0m\u001b[0;32m     14\u001b[0m \u001b[1;32mprint\u001b[0m \u001b[1;33m(\u001b[0m\u001b[1;34m'GPU:'\u001b[0m\u001b[1;33m,\u001b[0m \u001b[0mtime\u001b[0m\u001b[1;33m(\u001b[0m\u001b[1;33m)\u001b[0m \u001b[1;33m-\u001b[0m \u001b[0mstart\u001b[0m\u001b[1;33m)\u001b[0m\u001b[1;33m\u001b[0m\u001b[0m\n\u001b[0;32m     15\u001b[0m \u001b[1;33m\u001b[0m\u001b[0m\n",
      "\u001b[1;31mNameError\u001b[0m: name 'linalg' is not defined"
     ]
    }
   ],
   "source": [
    "dim = 1000\n",
    "rnd = np.random.RandomState(0)\n",
    "a = rnd.rand(dim, dim).astype(np.float32)\n",
    "b = rnd.rand(dim, dim).astype(np.float32)\n",
    "a_gpu = gpuarray.to_gpu(a)\n",
    "b_gpu = gpuarray.to_gpu(b)\n",
    "\n",
    "# start = time.time()\n",
    "# rescpu = np.dot(a, b)\n",
    "# print 'CPU:', time.time() - start\n",
    "\n",
    "start = time()\n",
    "resgpu = linalg.dot(a_gpu, b_gpu)\n",
    "print ('GPU:', time() - start)\n",
    "\n",
    "\n",
    "# resgpu = resgpu.get()\n",
    "# print np.allclose(rescpu, resgpu)\n",
    "# print np.allclose(resgpu, rescpu)"
   ]
  },
  {
   "cell_type": "code",
   "execution_count": 3,
   "metadata": {
    "collapsed": false,
    "scrolled": true
   },
   "outputs": [
    {
     "name": "stdout",
     "output_type": "stream",
     "text": [
      "0.108999967575\n",
      "0.0149998664856\n",
      "[ 0.          0.          0.         ..., -0.81707287  0.41746762\n",
      "  0.82374561]\n"
     ]
    }
   ],
   "source": [
    "import pycuda.driver as cuda\n",
    "import pycuda.tools\n",
    "import pycuda.autoinit\n",
    "import numpy\n",
    "import numpy.linalg as la\n",
    "from pycuda.compiler import SourceModule\n",
    "\n",
    "mod = SourceModule(\"\"\"\n",
    "__global__ void multiply_them(float *dest, float *a, float *b)\n",
    "{\n",
    "    const int i = threadIdx.x;\n",
    "    dest[i] = a[i] * b[i];\n",
    "}\n",
    "\"\"\")\n",
    "\n",
    "multiply_them = mod.get_function(\"multiply_them\")\n",
    "\n",
    "a = numpy.random.randn(1000000).astype(numpy.float32)\n",
    "b = numpy.random.randn(1000000).astype(numpy.float32)\n",
    "\n",
    "dest = numpy.zeros_like(a)\n",
    "start = time()\n",
    "multiply_them(\n",
    "        cuda.Out(dest), cuda.In(a), cuda.In(b),\n",
    "        block=(400,1,1))\n",
    "print (time() - start)\n",
    "start = time()\n",
    "c = a * b\n",
    "print (time() - start)\n",
    "\n",
    "print (dest-a*b)"
   ]
  },
  {
   "cell_type": "code",
   "execution_count": 4,
   "metadata": {
    "collapsed": false
   },
   "outputs": [
    {
     "name": "stdout",
     "output_type": "stream",
     "text": [
      "100 loops, best of 3: 6.88 ms per loop\n"
     ]
    }
   ],
   "source": [
    "%%timeit\n",
    "multiply_them(\n",
    "        cuda.Out(dest), cuda.In(a), cuda.In(b),\n",
    "        block=(400,1,1))"
   ]
  },
  {
   "cell_type": "code",
   "execution_count": 27,
   "metadata": {
    "collapsed": false
   },
   "outputs": [
    {
     "data": {
      "text/plain": [
       "array([-0.46173283, -0.50773519,  0.07551581, ...,  0.        ,\n",
       "        0.        ,  0.        ], dtype=float32)"
      ]
     },
     "execution_count": 27,
     "metadata": {},
     "output_type": "execute_result"
    }
   ],
   "source": [
    "dest"
   ]
  },
  {
   "cell_type": "code",
   "execution_count": 23,
   "metadata": {
    "collapsed": false
   },
   "outputs": [
    {
     "name": "stdout",
     "output_type": "stream",
     "text": [
      "The slowest run took 7.37 times longer than the fastest. This could mean that an intermediate result is being cached.\n",
      "100000 loops, best of 3: 17.5 µs per loop\n"
     ]
    }
   ],
   "source": [
    "%%timeit\n",
    "a*b"
   ]
  },
  {
   "cell_type": "code",
   "execution_count": 20,
   "metadata": {
    "collapsed": false
   },
   "outputs": [],
   "source": [
    "new = a*b"
   ]
  },
  {
   "cell_type": "code",
   "execution_count": 21,
   "metadata": {
    "collapsed": false
   },
   "outputs": [
    {
     "data": {
      "text/plain": [
       "(40000L,)"
      ]
     },
     "execution_count": 21,
     "metadata": {},
     "output_type": "execute_result"
    }
   ],
   "source": [
    "new.shape"
   ]
  },
  {
   "cell_type": "code",
   "execution_count": 33,
   "metadata": {
    "collapsed": true
   },
   "outputs": [],
   "source": [
    "import pycuda.driver as cuda\n",
    "import pycuda.autoinit\n",
    "from pycuda.compiler import SourceModule"
   ]
  },
  {
   "cell_type": "code",
   "execution_count": 68,
   "metadata": {
    "collapsed": false
   },
   "outputs": [],
   "source": [
    "mem_free, mem_total = cuda.mem_get_info()"
   ]
  },
  {
   "cell_type": "code",
   "execution_count": 69,
   "metadata": {
    "collapsed": false
   },
   "outputs": [
    {
     "data": {
      "text/plain": [
       "0.7976409909315407"
      ]
     },
     "execution_count": 69,
     "metadata": {},
     "output_type": "execute_result"
    }
   ],
   "source": [
    "float(mem_free)/float(mem_total)"
   ]
  },
  {
   "cell_type": "code",
   "execution_count": 2,
   "metadata": {
    "collapsed": true
   },
   "outputs": [],
   "source": [
    "import numpy\n",
    "a = numpy.random.randn(4,4)"
   ]
  },
  {
   "cell_type": "code",
   "execution_count": 35,
   "metadata": {
    "collapsed": true
   },
   "outputs": [],
   "source": [
    "a = a.astype(numpy.float32)"
   ]
  },
  {
   "cell_type": "code",
   "execution_count": 36,
   "metadata": {
    "collapsed": true
   },
   "outputs": [],
   "source": [
    "a_gpu = cuda.mem_alloc(a.nbytes)"
   ]
  },
  {
   "cell_type": "code",
   "execution_count": 8,
   "metadata": {
    "collapsed": false
   },
   "outputs": [],
   "source": [
    "mod = SourceModule(\"\"\"\n",
    "#include <stdio.h>\n",
    "  __global__ void doublify(float *a)\n",
    "  {\n",
    "    int idx = threadIdx.x + threadIdx.y*4;\n",
    "    printf(\"I am %d.%d\\\\n\", threadIdx.x, threadIdx.y);\n",
    "    a[idx] *= 2;\n",
    "  }\n",
    "  \"\"\")"
   ]
  },
  {
   "cell_type": "code",
   "execution_count": 41,
   "metadata": {
    "collapsed": true
   },
   "outputs": [],
   "source": [
    "func = mod.get_function(\"doublify\")"
   ]
  },
  {
   "cell_type": "code",
   "execution_count": 42,
   "metadata": {
    "collapsed": true
   },
   "outputs": [],
   "source": [
    "func(a_gpu, block=(4,4,1))"
   ]
  },
  {
   "cell_type": "code",
   "execution_count": 11,
   "metadata": {
    "collapsed": false
   },
   "outputs": [],
   "source": [
    "mod = SourceModule(\"\"\"\n",
    "    #include <stdio.h>\n",
    "\n",
    "    __global__ void say_hi()\n",
    "    {\n",
    "      printf(\"I am %d.%d\\\\n\", threadIdx.x, threadIdx.y);\n",
    "    }\n",
    "    \"\"\")\n",
    "\n",
    "func = mod.get_function(\"say_hi\")\n",
    "func(block=(4,4,1))"
   ]
  },
  {
   "cell_type": "code",
   "execution_count": 68,
   "metadata": {
    "collapsed": false
   },
   "outputs": [],
   "source": [
    "X = np.loadtxt(\"table.txt\")"
   ]
  },
  {
   "cell_type": "code",
   "execution_count": 78,
   "metadata": {
    "collapsed": false
   },
   "outputs": [
    {
     "data": {
      "text/plain": [
       "array([[0, 0, 0, ..., 0, 0, 0],\n",
       "       [0, 0, 0, ..., 0, 0, 0],\n",
       "       [0, 0, 0, ..., 0, 0, 0],\n",
       "       ..., \n",
       "       [0, 0, 0, ..., 0, 0, 0],\n",
       "       [0, 0, 0, ..., 0, 0, 0],\n",
       "       [0, 0, 0, ..., 0, 0, 0]])"
      ]
     },
     "execution_count": 78,
     "metadata": {},
     "output_type": "execute_result"
    }
   ],
   "source": [
    "X.astype(np.int32)"
   ]
  },
  {
   "cell_type": "code",
   "execution_count": 47,
   "metadata": {
    "collapsed": false
   },
   "outputs": [],
   "source": [
    "sigRef = np.array([2, 7, 3, 12, 10, 8, 11, 6, 1, -3, -2, 5, 10, 4, -2, -8, 0, 6, 3, 2, 10, 15, 12, 7])\n",
    "sigBase = np.array([7, 10, 7, 1, 1, 1, -3, 0, 6, 9, 4, -2])"
   ]
  },
  {
   "cell_type": "code",
   "execution_count": 48,
   "metadata": {
    "collapsed": false
   },
   "outputs": [
    {
     "data": {
      "text/plain": [
       "24L"
      ]
     },
     "execution_count": 48,
     "metadata": {},
     "output_type": "execute_result"
    }
   ],
   "source": [
    "sigRef.shape[0]"
   ]
  },
  {
   "cell_type": "code",
   "execution_count": 49,
   "metadata": {
    "collapsed": false
   },
   "outputs": [],
   "source": [
    "dissMatr = np.zeros((sigRef.shape[0], sigBase.shape[0]))\n",
    "for i in xrange(sigRef.shape[0]):\n",
    "    for j in xrange(sigBase.shape[0]):\n",
    "        dissMatr[i,j] = abs(sigRef[i] - sigBase[j])"
   ]
  },
  {
   "cell_type": "code",
   "execution_count": 51,
   "metadata": {
    "collapsed": true
   },
   "outputs": [],
   "source": [
    "X = dissMatr"
   ]
  },
  {
   "cell_type": "code",
   "execution_count": 75,
   "metadata": {
    "collapsed": false
   },
   "outputs": [
    {
     "name": "stdout",
     "output_type": "stream",
     "text": [
      "[[ inf  inf  inf  inf  inf  inf  inf  inf  inf  inf  inf  inf  inf]\n",
      " [ inf   5.   8.   5.   1.   1.   1.   5.   2.   4.   7.   2.   4.]\n",
      " [ inf   0.   3.   0.   6.   6.   6.  10.   7.   1.   2.   3.   9.]\n",
      " [ inf   4.   7.   4.   2.   2.   2.   6.   3.   3.   6.   1.   5.]\n",
      " [ inf   5.   2.   5.  11.  11.  11.  15.  12.   6.   3.   8.  14.]\n",
      " [ inf   3.   0.   3.   9.   9.   9.  13.  10.   4.   1.   6.  12.]\n",
      " [ inf   1.   2.   1.   7.   7.   7.  11.   8.   2.   1.   4.  10.]\n",
      " [ inf   4.   1.   4.  10.  10.  10.  14.  11.   5.   2.   7.  13.]\n",
      " [ inf   1.   4.   1.   5.   5.   5.   9.   6.   0.   3.   2.   8.]\n",
      " [ inf   6.   9.   6.   0.   0.   0.   4.   1.   5.   8.   3.   3.]\n",
      " [ inf  10.  13.  10.   4.   4.   4.   0.   3.   9.  12.   7.   1.]\n",
      " [ inf   9.  12.   9.   3.   3.   3.   1.   2.   8.  11.   6.   0.]\n",
      " [ inf   2.   5.   2.   4.   4.   4.   8.   5.   1.   4.   1.   7.]\n",
      " [ inf   3.   0.   3.   9.   9.   9.  13.  10.   4.   1.   6.  12.]\n",
      " [ inf   3.   6.   3.   3.   3.   3.   7.   4.   2.   5.   0.   6.]\n",
      " [ inf   9.  12.   9.   3.   3.   3.   1.   2.   8.  11.   6.   0.]\n",
      " [ inf  15.  18.  15.   9.   9.   9.   5.   8.  14.  17.  12.   6.]\n",
      " [ inf   7.  10.   7.   1.   1.   1.   3.   0.   6.   9.   4.   2.]\n",
      " [ inf   1.   4.   1.   5.   5.   5.   9.   6.   0.   3.   2.   8.]\n",
      " [ inf   4.   7.   4.   2.   2.   2.   6.   3.   3.   6.   1.   5.]\n",
      " [ inf   5.   8.   5.   1.   1.   1.   5.   2.   4.   7.   2.   4.]\n",
      " [ inf   3.   0.   3.   9.   9.   9.  13.  10.   4.   1.   6.  12.]\n",
      " [ inf   8.   5.   8.  14.  14.  14.  18.  15.   9.   6.  11.  17.]\n",
      " [ inf   5.   2.   5.  11.  11.  11.  15.  12.   6.   3.   8.  14.]\n",
      " [ inf   0.   3.   0.   6.   6.   6.  10.   7.   1.   2.   3.   9.]]\n",
      "[5.0, 17.0, 2.0]\n",
      "2\n",
      "[15.0, 24.0, 7.0]\n",
      "2\n",
      "[22.0, 27.0, 9.0]\n",
      "2\n",
      "[25.0, 30.0, 17.0]\n",
      "2\n",
      "[28.0, 33.0, 25.0]\n",
      "2\n",
      "[31.0, 40.0, 33.0]\n",
      "0\n",
      "[38.0, 44.0, 43.0]\n",
      "0\n",
      "[42.0, 50.0, 47.0]\n",
      "0\n",
      "[48.0, 59.0, 45.0]\n",
      "2\n",
      "[57.0, 63.0, 49.0]\n",
      "2\n",
      "[61.0, 69.0, 54.0]\n",
      "2\n",
      "0.0520000457764\n",
      "[[ 0.  3.  3.  3.  3.  3.  3.  3.  3.  3.  3.  3.]\n",
      " [ 0.  3.  3.  3.  3.  3.  1.  1.  1.  3.  3.  3.]\n",
      " [ 0.  1.  1.  1.  3.  3.  3.  3.  3.  3.  3.  3.]\n",
      " [ 0.  1.  1.  1.  1.  1.  1.  1.  1.  1.  3.  1.]\n",
      " [ 0.  1.  1.  3.  1.  1.  1.  1.  1.  1.  1.  3.]\n",
      " [ 0.  1.  1.  3.  3.  3.  1.  1.  1.  2.  1.  3.]\n",
      " [ 0.  1.  3.  1.  1.  1.  1.  1.  1.  2.  1.  1.]\n",
      " [ 0.  3.  1.  3.  3.  3.  3.  3.  3.  2.  1.  1.]\n",
      " [ 0.  1.  2.  1.  3.  3.  3.  3.  3.  3.  3.  3.]\n",
      " [ 0.  1.  1.  2.  1.  1.  1.  3.  3.  1.  1.  1.]\n",
      " [ 0.  1.  1.  2.  1.  1.  1.  1.  3.  3.  3.  1.]\n",
      " [ 0.  3.  3.  3.  1.  1.  1.  1.  1.  3.  3.  3.]\n",
      " [ 0.  1.  3.  3.  1.  1.  1.  2.  2.  1.  3.  1.]\n",
      " [ 0.  1.  1.  1.  3.  3.  3.  1.  2.  2.  1.  3.]\n",
      " [ 0.  1.  2.  1.  1.  1.  1.  3.  2.  1.  2.  1.]\n",
      " [ 0.  1.  1.  2.  1.  1.  1.  1.  1.  1.  2.  2.]\n",
      " [ 0.  3.  3.  2.  1.  1.  3.  1.  3.  3.  2.  2.]\n",
      " [ 0.  3.  3.  3.  3.  1.  1.  1.  1.  3.  3.  2.]\n",
      " [ 0.  1.  1.  1.  3.  3.  3.  1.  2.  1.  1.  3.]\n",
      " [ 0.  1.  1.  1.  1.  3.  3.  3.  3.  1.  1.  1.]\n",
      " [ 0.  1.  3.  3.  1.  1.  1.  1.  1.  1.  2.  1.]\n",
      " [ 0.  1.  1.  1.  1.  1.  1.  1.  1.  1.  1.  1.]\n",
      " [ 0.  3.  1.  1.  1.  1.  1.  1.  1.  2.  1.  1.]\n",
      " [ 0.  3.  3.  3.  3.  3.  3.  3.  1.  2.  1.  1.]]\n",
      "i: 14\n",
      "res: 11.0\n",
      "[[14]\n",
      " [12]]\n",
      "14 12\n",
      "0.000999927520752\n",
      "[[ 5  6  7  8  8  8  9 10 11 12 13 14]\n",
      " [ 1  2  3  4  5  6  7  8  9 10 11 12]]\n"
     ]
    }
   ],
   "source": [
    "pnt = 2\n",
    "m, n = X.shape\n",
    "D = np.zeros((m+1, n+1))\n",
    "D[0,0] = 0\n",
    "D[0,:] = np.inf\n",
    "D[:,0] = np.inf\n",
    "D[1:(m+1), 1:(n+1)] = X\n",
    "D_gpu = gpuarray.to_gpu(D)\n",
    "phi = np.zeros((m, n))\n",
    "print D\n",
    "start = time()\n",
    "for i in xrange(0,m):  # почему с 0? тут nan\n",
    "    for j in xrange(1,n):\n",
    "        tmp = [D[i, j], D[i, j + 1] + pnt, D[i + 1, j] + pnt]\n",
    "        tb = np.argmin(tmp)\n",
    "        if i == 1:\n",
    "            print tmp\n",
    "            print tb\n",
    "        dmin = tmp[tb]\n",
    "        D[i + 1, j + 1] = D[i + 1, j + 1] + dmin\n",
    "        phi[i, j] = tb+1\n",
    "print time()-start\n",
    "print phi\n",
    "j = n\n",
    "i = np.argmin(D[1:, n])\n",
    "print \"i:\", i\n",
    "res = D[1:, n][i]\n",
    "print \"res:\", res\n",
    "path = np.array([[i],[j]])\n",
    "print path\n",
    "start = time()\n",
    "print i,j\n",
    "while j > 1 and i > 1:\n",
    "    tb = phi[i, j-1]\n",
    "    if tb == 1:\n",
    "        i -= 1\n",
    "        j -= 1\n",
    "    elif tb == 2:\n",
    "        i -= 1\n",
    "    elif tb == 3:\n",
    "        j -= 1\n",
    "    else:\n",
    "        print i,j\n",
    "        raise Exception(\"wtf?\")\n",
    "\n",
    "    path = np.insert(path, 0, [i,j], axis=1)\n",
    "\n",
    "D = D[1:(m + 1), 1:(n + 1)]\n",
    "print time() - start\n",
    "print path"
   ]
  },
  {
   "cell_type": "code",
   "execution_count": 67,
   "metadata": {
    "collapsed": false
   },
   "outputs": [
    {
     "name": "stdout",
     "output_type": "stream",
     "text": [
      "[[ inf  inf  inf  inf  inf  inf  inf  inf  inf  inf  inf  inf  inf]\n",
      " [ inf   5.   8.   5.   1.   1.   1.   5.   2.   4.   7.   2.   4.]\n",
      " [ inf   0.   3.   0.   6.   6.   6.  10.   7.   1.   2.   3.   9.]\n",
      " [ inf   4.   7.   4.   2.   2.   2.   6.   3.   3.   6.   1.   5.]\n",
      " [ inf   5.   2.   5.  11.  11.  11.  15.  12.   6.   3.   8.  14.]\n",
      " [ inf   3.   0.   3.   9.   9.   9.  13.  10.   4.   1.   6.  12.]\n",
      " [ inf   1.   2.   1.   7.   7.   7.  11.   8.   2.   1.   4.  10.]\n",
      " [ inf   4.   1.   4.  10.  10.  10.  14.  11.   5.   2.   7.  13.]\n",
      " [ inf   1.   4.   1.   5.   5.   5.   9.   6.   0.   3.   2.   8.]\n",
      " [ inf   6.   9.   6.   0.   0.   0.   4.   1.   5.   8.   3.   3.]\n",
      " [ inf  10.  13.  10.   4.   4.   4.   0.   3.   9.  12.   7.   1.]\n",
      " [ inf   9.  12.   9.   3.   3.   3.   1.   2.   8.  11.   6.   0.]\n",
      " [ inf   2.   5.   2.   4.   4.   4.   8.   5.   1.   4.   1.   7.]\n",
      " [ inf   3.   0.   3.   9.   9.   9.  13.  10.   4.   1.   6.  12.]\n",
      " [ inf   3.   6.   3.   3.   3.   3.   7.   4.   2.   5.   0.   6.]\n",
      " [ inf   9.  12.   9.   3.   3.   3.   1.   2.   8.  11.   6.   0.]\n",
      " [ inf  15.  18.  15.   9.   9.   9.   5.   8.  14.  17.  12.   6.]\n",
      " [ inf   7.  10.   7.   1.   1.   1.   3.   0.   6.   9.   4.   2.]\n",
      " [ inf   1.   4.   1.   5.   5.   5.   9.   6.   0.   3.   2.   8.]\n",
      " [ inf   4.   7.   4.   2.   2.   2.   6.   3.   3.   6.   1.   5.]\n",
      " [ inf   5.   8.   5.   1.   1.   1.   5.   2.   4.   7.   2.   4.]\n",
      " [ inf   3.   0.   3.   9.   9.   9.  13.  10.   4.   1.   6.  12.]\n",
      " [ inf   8.   5.   8.  14.  14.  14.  18.  15.   9.   6.  11.  17.]\n",
      " [ inf   5.   2.   5.  11.  11.  11.  15.  12.   6.   3.   8.  14.]\n",
      " [ inf   0.   3.   0.   6.   6.   6.  10.   7.   1.   2.   3.   9.]]\n",
      "[inf, inf, 7.0]\n",
      "[inf, inf, 17.0]\n",
      "[inf, inf, 24.0]\n",
      "[inf, inf, 27.0]\n",
      "[inf, inf, 30.0]\n",
      "[inf, inf, 33.0]\n",
      "[inf, inf, 40.0]\n",
      "[inf, inf, 44.0]\n",
      "[inf, inf, 50.0]\n",
      "[inf, inf, 59.0]\n",
      "[inf, inf, 63.0]\n",
      "[5.0, 17.0, 2.0]\n",
      "[15.0, 24.0, 7.0]\n",
      "[22.0, 27.0, 9.0]\n",
      "[25.0, 30.0, 17.0]\n",
      "[28.0, 33.0, 25.0]\n",
      "[31.0, 40.0, 33.0]\n",
      "[38.0, 44.0, 43.0]\n",
      "[42.0, 50.0, 47.0]\n",
      "[48.0, 59.0, 45.0]\n",
      "[57.0, 63.0, 49.0]\n",
      "[61.0, 69.0, 54.0]\n",
      "[0.0, 7.0, 6.0]\n",
      "[5.0, 9.0, 9.0]\n",
      "[7.0, 17.0, 11.0]\n",
      "[15.0, 25.0, 11.0]\n",
      "[23.0, 33.0, 15.0]\n",
      "[31.0, 43.0, 19.0]\n",
      "[41.0, 47.0, 27.0]\n",
      "[45.0, 45.0, 32.0]\n",
      "[43.0, 49.0, 37.0]\n",
      "[47.0, 54.0, 45.0]\n",
      "[52.0, 65.0, 48.0]\n",
      "[4.0, 9.0, 7.0]\n",
      "[7.0, 11.0, 8.0]\n",
      "[9.0, 11.0, 14.0]\n",
      "[9.0, 15.0, 22.0]\n",
      "[13.0, 19.0, 22.0]\n",
      "[17.0, 27.0, 26.0]\n",
      "[25.0, 32.0, 34.0]\n",
      "[30.0, 37.0, 39.0]\n",
      "[35.0, 45.0, 38.0]\n",
      "[43.0, 48.0, 40.0]\n",
      "[46.0, 55.0, 50.0]\n",
      "[5.0, 8.0, 5.0]\n",
      "[6.0, 14.0, 7.0]\n",
      "[12.0, 22.0, 11.0]\n",
      "[20.0, 22.0, 22.0]\n",
      "[20.0, 26.0, 31.0]\n",
      "[24.0, 34.0, 31.0]\n",
      "[32.0, 39.0, 39.0]\n",
      "[37.0, 38.0, 44.0]\n",
      "[36.0, 40.0, 43.0]\n",
      "[38.0, 50.0, 39.0]\n",
      "[48.0, 62.0, 46.0]\n",
      "[3.0, 7.0, 3.0]\n",
      "[5.0, 11.0, 7.0]\n",
      "[9.0, 22.0, 8.0]\n",
      "[20.0, 31.0, 17.0]\n",
      "[29.0, 31.0, 26.0]\n",
      "[29.0, 39.0, 35.0]\n",
      "[37.0, 44.0, 42.0]\n",
      "[42.0, 43.0, 47.0]\n",
      "[41.0, 39.0, 46.0]\n",
      "[37.0, 46.0, 42.0]\n",
      "[44.0, 60.0, 43.0]\n",
      "[1.0, 7.0, 6.0]\n",
      "[5.0, 8.0, 4.0]\n",
      "[6.0, 17.0, 10.0]\n",
      "[15.0, 26.0, 18.0]\n",
      "[24.0, 35.0, 27.0]\n",
      "[33.0, 42.0, 36.0]\n",
      "[40.0, 47.0, 49.0]\n",
      "[45.0, 46.0, 53.0]\n",
      "[44.0, 42.0, 52.0]\n",
      "[40.0, 43.0, 46.0]\n",
      "[41.0, 55.0, 49.0]\n",
      "[4.0, 4.0, 3.0]\n",
      "[2.0, 10.0, 9.0]\n",
      "[8.0, 18.0, 5.0]\n",
      "[16.0, 27.0, 12.0]\n",
      "[25.0, 36.0, 19.0]\n",
      "[34.0, 49.0, 26.0]\n",
      "[47.0, 53.0, 37.0]\n",
      "[51.0, 52.0, 45.0]\n",
      "[50.0, 46.0, 47.0]\n",
      "[44.0, 49.0, 51.0]\n",
      "[47.0, 56.0, 48.0]\n",
      "[1.0, 9.0, 8.0]\n",
      "[7.0, 5.0, 12.0]\n",
      "[3.0, 12.0, 13.0]\n",
      "[10.0, 19.0, 5.0]\n",
      "[17.0, 26.0, 7.0]\n",
      "[24.0, 37.0, 9.0]\n",
      "[35.0, 45.0, 15.0]\n",
      "[43.0, 47.0, 18.0]\n",
      "[45.0, 51.0, 25.0]\n",
      "[49.0, 48.0, 35.0]\n",
      "[46.0, 57.0, 40.0]\n",
      "[6.0, 12.0, 12.0]\n",
      "[10.0, 13.0, 21.0]\n",
      "[11.0, 5.0, 22.0]\n",
      "[3.0, 7.0, 11.0]\n",
      "[5.0, 9.0, 9.0]\n",
      "[7.0, 15.0, 11.0]\n",
      "[13.0, 18.0, 9.0]\n",
      "[16.0, 25.0, 14.0]\n",
      "[23.0, 35.0, 25.0]\n",
      "[33.0, 40.0, 37.0]\n",
      "[38.0, 45.0, 42.0]\n",
      "[10.0, 21.0, 11.0]\n",
      "[19.0, 22.0, 24.0]\n",
      "[20.0, 11.0, 30.0]\n",
      "[9.0, 9.0, 16.0]\n",
      "[7.0, 11.0, 14.0]\n",
      "[9.0, 9.0, 12.0]\n",
      "[7.0, 14.0, 12.0]\n",
      "[12.0, 25.0, 11.0]\n",
      "[23.0, 37.0, 21.0]\n",
      "[35.0, 42.0, 34.0]\n",
      "[40.0, 41.0, 42.0]\n",
      "[9.0, 24.0, 4.0]\n",
      "[22.0, 30.0, 11.0]\n",
      "[28.0, 16.0, 15.0]\n",
      "[14.0, 14.0, 21.0]\n",
      "[12.0, 12.0, 20.0]\n",
      "[10.0, 12.0, 18.0]\n",
      "[10.0, 11.0, 20.0]\n",
      "[9.0, 21.0, 17.0]\n",
      "[19.0, 34.0, 12.0]\n",
      "[32.0, 42.0, 18.0]\n",
      "[40.0, 42.0, 21.0]\n",
      "[2.0, 11.0, 5.0]\n",
      "[9.0, 15.0, 4.0]\n",
      "[13.0, 21.0, 9.0]\n",
      "[19.0, 20.0, 20.0]\n",
      "[18.0, 18.0, 30.0]\n",
      "[16.0, 20.0, 29.0]\n",
      "[18.0, 17.0, 31.0]\n",
      "[15.0, 12.0, 29.0]\n",
      "[10.0, 18.0, 18.0]\n",
      "[16.0, 21.0, 13.0]\n",
      "[19.0, 30.0, 21.0]\n",
      "[3.0, 4.0, 5.0]\n",
      "[2.0, 9.0, 11.0]\n",
      "[7.0, 20.0, 7.0]\n",
      "[18.0, 30.0, 12.0]\n",
      "[28.0, 29.0, 17.0]\n",
      "[27.0, 31.0, 22.0]\n",
      "[29.0, 29.0, 31.0]\n",
      "[27.0, 18.0, 35.0]\n",
      "[16.0, 13.0, 22.0]\n",
      "[11.0, 21.0, 20.0]\n",
      "[19.0, 33.0, 13.0]\n",
      "[3.0, 11.0, 11.0]\n",
      "[9.0, 7.0, 17.0]\n",
      "[5.0, 12.0, 18.0]\n",
      "[10.0, 17.0, 10.0]\n",
      "[15.0, 22.0, 15.0]\n",
      "[20.0, 31.0, 20.0]\n",
      "[29.0, 35.0, 23.0]\n",
      "[33.0, 22.0, 27.0]\n",
      "[20.0, 20.0, 32.0]\n",
      "[18.0, 13.0, 33.0]\n",
      "[11.0, 21.0, 21.0]\n",
      "[9.0, 17.0, 17.0]\n",
      "[15.0, 18.0, 29.0]\n",
      "[16.0, 10.0, 32.0]\n",
      "[8.0, 15.0, 21.0]\n",
      "[13.0, 20.0, 19.0]\n",
      "[18.0, 23.0, 24.0]\n",
      "[21.0, 27.0, 25.0]\n",
      "[25.0, 32.0, 31.0]\n",
      "[30.0, 33.0, 41.0]\n",
      "[31.0, 21.0, 49.0]\n",
      "[19.0, 13.0, 35.0]\n",
      "[15.0, 29.0, 9.0]\n",
      "[27.0, 32.0, 21.0]\n",
      "[30.0, 21.0, 30.0]\n",
      "[19.0, 19.0, 24.0]\n",
      "[17.0, 24.0, 22.0]\n",
      "[22.0, 25.0, 20.0]\n",
      "[23.0, 31.0, 25.0]\n",
      "[29.0, 41.0, 25.0]\n",
      "[39.0, 49.0, 33.0]\n",
      "[47.0, 35.0, 44.0]\n",
      "[33.0, 21.0, 41.0]\n",
      "[7.0, 21.0, 3.0]\n",
      "[19.0, 30.0, 9.0]\n",
      "[28.0, 24.0, 12.0]\n",
      "[22.0, 22.0, 19.0]\n",
      "[20.0, 20.0, 26.0]\n",
      "[18.0, 25.0, 27.0]\n",
      "[23.0, 25.0, 29.0]\n",
      "[23.0, 33.0, 31.0]\n",
      "[31.0, 44.0, 25.0]\n",
      "[42.0, 41.0, 30.0]\n",
      "[39.0, 25.0, 34.0]\n",
      "[1.0, 9.0, 6.0]\n",
      "[7.0, 12.0, 10.0]\n",
      "[10.0, 19.0, 13.0]\n",
      "[17.0, 26.0, 14.0]\n",
      "[24.0, 27.0, 18.0]\n",
      "[25.0, 29.0, 22.0]\n",
      "[27.0, 31.0, 30.0]\n",
      "[29.0, 25.0, 32.0]\n",
      "[23.0, 30.0, 30.0]\n",
      "[28.0, 34.0, 31.0]\n",
      "[32.0, 35.0, 31.0]\n",
      "[4.0, 10.0, 7.0]\n",
      "[8.0, 13.0, 14.0]\n",
      "[11.0, 14.0, 15.0]\n",
      "[12.0, 18.0, 14.0]\n",
      "[16.0, 22.0, 15.0]\n",
      "[20.0, 30.0, 18.0]\n",
      "[28.0, 32.0, 25.0]\n",
      "[30.0, 30.0, 29.0]\n",
      "[28.0, 31.0, 35.0]\n",
      "[29.0, 31.0, 37.0]\n",
      "[29.0, 38.0, 33.0]\n",
      "[5.0, 14.0, 5.0]\n",
      "[12.0, 15.0, 7.0]\n",
      "[13.0, 14.0, 12.0]\n",
      "[12.0, 15.0, 23.0]\n",
      "[13.0, 18.0, 23.0]\n",
      "[16.0, 25.0, 24.0]\n",
      "[23.0, 29.0, 31.0]\n",
      "[27.0, 35.0, 35.0]\n",
      "[33.0, 37.0, 33.0]\n",
      "[35.0, 33.0, 36.0]\n",
      "[31.0, 35.0, 41.0]\n",
      "[3.0, 7.0, 10.0]\n",
      "[5.0, 12.0, 10.0]\n",
      "[10.0, 23.0, 15.0]\n",
      "[21.0, 23.0, 26.0]\n",
      "[21.0, 24.0, 37.0]\n",
      "[22.0, 31.0, 37.0]\n",
      "[29.0, 35.0, 42.0]\n",
      "[33.0, 33.0, 46.0]\n",
      "[31.0, 36.0, 44.0]\n",
      "[34.0, 41.0, 39.0]\n",
      "[39.0, 45.0, 47.0]\n",
      "[8.0, 10.0, 7.0]\n",
      "[8.0, 15.0, 11.0]\n",
      "[13.0, 26.0, 15.0]\n",
      "[24.0, 37.0, 26.0]\n",
      "[35.0, 37.0, 37.0]\n",
      "[35.0, 42.0, 48.0]\n",
      "[40.0, 46.0, 52.0]\n",
      "[44.0, 44.0, 54.0]\n",
      "[42.0, 39.0, 52.0]\n",
      "[37.0, 47.0, 44.0]\n",
      "[45.0, 58.0, 47.0]\n",
      "[5.0, 11.0, 2.0]\n",
      "[9.0, 15.0, 7.0]\n",
      "[13.0, 26.0, 9.0]\n",
      "[24.0, 37.0, 17.0]\n",
      "[35.0, 48.0, 25.0]\n",
      "[46.0, 52.0, 33.0]\n",
      "[50.0, 54.0, 45.0]\n",
      "[52.0, 52.0, 54.0]\n",
      "[50.0, 44.0, 55.0]\n",
      "[42.0, 47.0, 48.0]\n",
      "[45.0, 61.0, 47.0]\n",
      "0.010999917984\n",
      "[[ 0.  3.  3.  3.  3.  3.  3.  3.  3.  3.  3.  3.]\n",
      " [ 0.  3.  3.  3.  3.  3.  1.  1.  1.  3.  3.  3.]\n",
      " [ 0.  1.  1.  1.  3.  3.  3.  3.  3.  3.  3.  3.]\n",
      " [ 0.  1.  1.  1.  1.  1.  1.  1.  1.  1.  3.  1.]\n",
      " [ 0.  1.  1.  3.  1.  1.  1.  1.  1.  1.  1.  3.]\n",
      " [ 0.  1.  1.  3.  3.  3.  1.  1.  1.  2.  1.  3.]\n",
      " [ 0.  1.  3.  1.  1.  1.  1.  1.  1.  2.  1.  1.]\n",
      " [ 0.  3.  1.  3.  3.  3.  3.  3.  3.  2.  1.  1.]\n",
      " [ 0.  1.  2.  1.  3.  3.  3.  3.  3.  3.  3.  3.]\n",
      " [ 0.  1.  1.  2.  1.  1.  1.  3.  3.  1.  1.  1.]\n",
      " [ 0.  1.  1.  2.  1.  1.  1.  1.  3.  3.  3.  1.]\n",
      " [ 0.  3.  3.  3.  1.  1.  1.  1.  1.  3.  3.  3.]\n",
      " [ 0.  1.  3.  3.  1.  1.  1.  2.  2.  1.  3.  1.]\n",
      " [ 0.  1.  1.  1.  3.  3.  3.  1.  2.  2.  1.  3.]\n",
      " [ 0.  1.  2.  1.  1.  1.  1.  3.  2.  1.  2.  1.]\n",
      " [ 0.  1.  1.  2.  1.  1.  1.  1.  1.  1.  2.  2.]\n",
      " [ 0.  3.  3.  2.  1.  1.  3.  1.  3.  3.  2.  2.]\n",
      " [ 0.  3.  3.  3.  3.  1.  1.  1.  1.  3.  3.  2.]\n",
      " [ 0.  1.  1.  1.  3.  3.  3.  1.  2.  1.  1.  3.]\n",
      " [ 0.  1.  1.  1.  1.  3.  3.  3.  3.  1.  1.  1.]\n",
      " [ 0.  1.  3.  3.  1.  1.  1.  1.  1.  1.  2.  1.]\n",
      " [ 0.  1.  1.  1.  1.  1.  1.  1.  1.  1.  1.  1.]\n",
      " [ 0.  3.  1.  1.  1.  1.  1.  1.  1.  2.  1.  1.]\n",
      " [ 0.  3.  3.  3.  3.  3.  3.  3.  1.  2.  1.  1.]]\n",
      "i: 14\n",
      "res: 11.0\n",
      "[[14]\n",
      " [12]]\n",
      "14 12\n",
      "0.000999927520752\n",
      "[[ 5  6  7  8  8  8  9 10 11 12 13 14]\n",
      " [ 1  2  3  4  5  6  7  8  9 10 11 12]]\n"
     ]
    }
   ],
   "source": [
    "# переделка\n",
    "\n",
    "pnt = 2\n",
    "m, n = X.shape\n",
    "D = np.zeros((m+1, n+1))\n",
    "D[0,0] = 0\n",
    "D[0,:] = np.inf\n",
    "D[:,0] = np.inf\n",
    "D[1:(m+1), 1:(n+1)] = X\n",
    "D_gpu = gpuarray.to_gpu(D)\n",
    "phi = np.zeros((m, n))\n",
    "print D\n",
    "start = time()\n",
    "for i in xrange(0,m):  # почему с 0? тут nan\n",
    "    for j in xrange(1,n):\n",
    "        tmp = [D[i, j], D[i, j + 1] + pnt, D[i + 1, j] + pnt]\n",
    "        print tmp\n",
    "        tb = np.argmin(tmp)\n",
    "        dmin = tmp[tb]\n",
    "        D[i + 1, j + 1] = D[i + 1, j + 1] + dmin\n",
    "        phi[i, j] = tb+1\n",
    "print time()-start\n",
    "print phi\n",
    "j = n\n",
    "i = np.argmin(D[1:, n])\n",
    "print \"i:\", i\n",
    "res = D[1:, n][i]\n",
    "print \"res:\", res\n",
    "path = np.array([[i],[j]])\n",
    "print path\n",
    "start = time()\n",
    "print i,j\n",
    "while j > 1:\n",
    "    tb = phi[i, j-1]\n",
    "    if tb == 1:\n",
    "        i -= 1\n",
    "        j -= 1\n",
    "    elif tb == 2:\n",
    "        i -= 1\n",
    "    elif tb == 3:\n",
    "        j -= 1\n",
    "    else:\n",
    "        print i,j\n",
    "        raise Exception(\"wtf?\")\n",
    "\n",
    "    path = np.insert(path, 0, [i,j], axis=1)\n",
    "\n",
    "D = D[1:(m + 1), 1:(n + 1)]\n",
    "print time() - start\n",
    "print path"
   ]
  },
  {
   "cell_type": "code",
   "execution_count": 80,
   "metadata": {
    "collapsed": true
   },
   "outputs": [],
   "source": [
    "np.savetxt(\"path.txt\", path)"
   ]
  },
  {
   "cell_type": "code",
   "execution_count": 43,
   "metadata": {
    "collapsed": false
   },
   "outputs": [
    {
     "data": {
      "text/plain": [
       "array([[-8, -7, -7, -7, -6, -5, -5, -5, -5, -4, -3, -2, -1,  0],\n",
       "       [ 0,  1,  2,  3,  4,  5,  6,  7,  8,  9, 10, 10, 11, 12]], dtype=int64)"
      ]
     },
     "execution_count": 43,
     "metadata": {},
     "output_type": "execute_result"
    }
   ],
   "source": [
    "path"
   ]
  },
  {
   "cell_type": "code",
   "execution_count": 41,
   "metadata": {
    "collapsed": true
   },
   "outputs": [],
   "source": [
    "mod = SourceModule(\"\"\"\n",
    "  __global__ void doublify(float *a)\n",
    "  {\n",
    "    int idx = threadIdx.x + threadIdx.y*4;\n",
    "    a[idx] *= 2;\n",
    "  }\n",
    "  \"\"\")"
   ]
  },
  {
   "cell_type": "code",
   "execution_count": null,
   "metadata": {
    "collapsed": true
   },
   "outputs": [],
   "source": []
  },
  {
   "cell_type": "code",
   "execution_count": 15,
   "metadata": {
    "collapsed": true
   },
   "outputs": [],
   "source": [
    "def meminfo(kernel):\n",
    "    shared=kernel.shared_size_bytes\n",
    "    regs=kernel.num_regs\n",
    "    local=kernel.local_size_bytes\n",
    "    const=kernel.const_size_bytes\n",
    "    mbpt=kernel.max_threads_per_block\n",
    "    print(\"\"\"=MEM=\\nLocal:%d,\\nShared:%d,\\nRegisters:%d,\\nConst:%d,\\nMax Threads/B:%d\"\"\"%(local,shared,regs,const,mbpt))"
   ]
  },
  {
   "cell_type": "code",
   "execution_count": 16,
   "metadata": {
    "collapsed": false
   },
   "outputs": [
    {
     "name": "stdout",
     "output_type": "stream",
     "text": [
      "=MEM=\n",
      "Local:0,\n",
      "Shared:0,\n",
      "Registers:10,\n",
      "Const:0,\n",
      "Max Threads/B:1024\n"
     ]
    }
   ],
   "source": [
    "kernel=mod.get_function(\"multiply_them\")\n",
    "meminfo(kernel)"
   ]
  },
  {
   "cell_type": "code",
   "execution_count": 31,
   "metadata": {
    "collapsed": false
   },
   "outputs": [
    {
     "data": {
      "text/plain": [
       "1024"
      ]
     },
     "execution_count": 31,
     "metadata": {},
     "output_type": "execute_result"
    }
   ],
   "source": [
    "mod.get_function(\"multiply_them\").max_threads_per_block"
   ]
  }
 ],
 "metadata": {
  "anaconda-cloud": {},
  "kernelspec": {
   "display_name": "Python [conda root]",
   "language": "python",
   "name": "conda-root-py"
  },
  "language_info": {
   "codemirror_mode": {
    "name": "ipython",
    "version": 2
   },
   "file_extension": ".py",
   "mimetype": "text/x-python",
   "name": "python",
   "nbconvert_exporter": "python",
   "pygments_lexer": "ipython2",
   "version": "2.7.12"
  }
 },
 "nbformat": 4,
 "nbformat_minor": 0
}
